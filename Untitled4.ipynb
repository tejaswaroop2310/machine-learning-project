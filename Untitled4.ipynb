{
  "nbformat": 4,
  "nbformat_minor": 0,
  "metadata": {
    "colab": {
      "name": "Untitled4.ipynb",
      "provenance": []
    },
    "kernelspec": {
      "name": "python3",
      "display_name": "Python 3"
    }
  },
  "cells": [
    {
      "cell_type": "code",
      "metadata": {
        "colab": {
          "base_uri": "https://localhost:8080/"
        },
        "id": "xxQhw6R_FLUv",
        "outputId": "cf63bb2b-317d-4f0a-a80d-d458be464f2a"
      },
      "source": [
        "from google.colab import drive\r\n",
        "drive.mount('/content/gdrive')"
      ],
      "execution_count": null,
      "outputs": [
        {
          "output_type": "stream",
          "text": [
            "Drive already mounted at /content/gdrive; to attempt to forcibly remount, call drive.mount(\"/content/gdrive\", force_remount=True).\n"
          ],
          "name": "stdout"
        }
      ]
    },
    {
      "cell_type": "code",
      "metadata": {
        "id": "NXlawXUfGvYI"
      },
      "source": [
        "\r\n",
        "# It is defined by the kaggle/python Docker image: https://github.com/kaggle/docker-python\r\n",
        "# For example, here's several helpful packages to load\r\n",
        "\r\n",
        "import numpy as np # linear algebra\r\n",
        "import pandas as pd # data processing, CSV file I/O (e.g. pd.read_csv)\r\n",
        "\r\n",
        "\r\n",
        "# You can write up to 20GB to the current directory (/kaggle/working/) that gets preserved as output when you create a version using \"Save & Run All\" \r\n",
        "# You can also write temporary files to /kaggle/temp/, but they won't be saved outside of the current session"
      ],
      "execution_count": null,
      "outputs": []
    },
    {
      "cell_type": "code",
      "metadata": {
        "id": "1kHjOTZnG5VQ"
      },
      "source": [
        "train = pd.read_csv(\"/content/gdrive/MyDrive/dataset/trainf.csv\")\r\n",
        "test = pd.read_csv(\"/content/gdrive/MyDrive/dataset/testf.csv\")"
      ],
      "execution_count": null,
      "outputs": []
    },
    {
      "cell_type": "code",
      "metadata": {
        "colab": {
          "base_uri": "https://localhost:8080/",
          "height": 657
        },
        "id": "g1Uh1E3ZHa_p",
        "outputId": "4152162f-1756-4b4e-b51e-d8ab3ec69703"
      },
      "source": [
        "train_Y = train['Cost'].abs()\r\n",
        "train_X = train.drop(['Cost'], axis=1)\r\n",
        "test_X = test\r\n",
        "train_X"
      ],
      "execution_count": null,
      "outputs": [
        {
          "output_type": "execute_result",
          "data": {
            "text/html": [
              "<div>\n",
              "<style scoped>\n",
              "    .dataframe tbody tr th:only-of-type {\n",
              "        vertical-align: middle;\n",
              "    }\n",
              "\n",
              "    .dataframe tbody tr th {\n",
              "        vertical-align: top;\n",
              "    }\n",
              "\n",
              "    .dataframe thead th {\n",
              "        text-align: right;\n",
              "    }\n",
              "</style>\n",
              "<table border=\"1\" class=\"dataframe\">\n",
              "  <thead>\n",
              "    <tr style=\"text-align: right;\">\n",
              "      <th></th>\n",
              "      <th>Customer Id</th>\n",
              "      <th>Artist Name</th>\n",
              "      <th>Artist Reputation</th>\n",
              "      <th>Height</th>\n",
              "      <th>Width</th>\n",
              "      <th>Weight</th>\n",
              "      <th>Material</th>\n",
              "      <th>Price Of Sculpture</th>\n",
              "      <th>Base Shipping Price</th>\n",
              "      <th>International</th>\n",
              "      <th>Express Shipment</th>\n",
              "      <th>Installation Included</th>\n",
              "      <th>Transport</th>\n",
              "      <th>Fragile</th>\n",
              "      <th>Customer Information</th>\n",
              "      <th>Remote Location</th>\n",
              "      <th>Scheduled Date</th>\n",
              "      <th>Delivery Date</th>\n",
              "      <th>Customer Location</th>\n",
              "    </tr>\n",
              "  </thead>\n",
              "  <tbody>\n",
              "    <tr>\n",
              "      <th>0</th>\n",
              "      <td>fffe3900350033003300</td>\n",
              "      <td>Billy Jenkins</td>\n",
              "      <td>0.26</td>\n",
              "      <td>17.0</td>\n",
              "      <td>6.0</td>\n",
              "      <td>4128.0</td>\n",
              "      <td>Brass</td>\n",
              "      <td>13.91</td>\n",
              "      <td>16.27</td>\n",
              "      <td>Yes</td>\n",
              "      <td>Yes</td>\n",
              "      <td>No</td>\n",
              "      <td>Airways</td>\n",
              "      <td>No</td>\n",
              "      <td>Working Class</td>\n",
              "      <td>No</td>\n",
              "      <td>06/07/15</td>\n",
              "      <td>06/03/15</td>\n",
              "      <td>New Michelle, OH 50777</td>\n",
              "    </tr>\n",
              "    <tr>\n",
              "      <th>1</th>\n",
              "      <td>fffe3800330031003900</td>\n",
              "      <td>Jean Bryant</td>\n",
              "      <td>0.28</td>\n",
              "      <td>3.0</td>\n",
              "      <td>3.0</td>\n",
              "      <td>61.0</td>\n",
              "      <td>Brass</td>\n",
              "      <td>6.83</td>\n",
              "      <td>15.00</td>\n",
              "      <td>No</td>\n",
              "      <td>No</td>\n",
              "      <td>No</td>\n",
              "      <td>Roadways</td>\n",
              "      <td>No</td>\n",
              "      <td>Working Class</td>\n",
              "      <td>No</td>\n",
              "      <td>03/06/17</td>\n",
              "      <td>03/05/17</td>\n",
              "      <td>New Michaelport, WY 12072</td>\n",
              "    </tr>\n",
              "    <tr>\n",
              "      <th>2</th>\n",
              "      <td>fffe3600370035003100</td>\n",
              "      <td>Laura Miller</td>\n",
              "      <td>0.07</td>\n",
              "      <td>8.0</td>\n",
              "      <td>5.0</td>\n",
              "      <td>237.0</td>\n",
              "      <td>Clay</td>\n",
              "      <td>4.96</td>\n",
              "      <td>21.18</td>\n",
              "      <td>No</td>\n",
              "      <td>No</td>\n",
              "      <td>No</td>\n",
              "      <td>Roadways</td>\n",
              "      <td>Yes</td>\n",
              "      <td>Working Class</td>\n",
              "      <td>Yes</td>\n",
              "      <td>03/09/15</td>\n",
              "      <td>03/08/15</td>\n",
              "      <td>Bowmanshire, WA 19241</td>\n",
              "    </tr>\n",
              "    <tr>\n",
              "      <th>3</th>\n",
              "      <td>fffe350031003300</td>\n",
              "      <td>Robert Chaires</td>\n",
              "      <td>0.12</td>\n",
              "      <td>9.0</td>\n",
              "      <td>NaN</td>\n",
              "      <td>NaN</td>\n",
              "      <td>Aluminium</td>\n",
              "      <td>5.81</td>\n",
              "      <td>16.31</td>\n",
              "      <td>No</td>\n",
              "      <td>No</td>\n",
              "      <td>No</td>\n",
              "      <td>NaN</td>\n",
              "      <td>No</td>\n",
              "      <td>Wealthy</td>\n",
              "      <td>Yes</td>\n",
              "      <td>05/24/15</td>\n",
              "      <td>05/20/15</td>\n",
              "      <td>East Robyn, KY 86375</td>\n",
              "    </tr>\n",
              "    <tr>\n",
              "      <th>4</th>\n",
              "      <td>fffe3900320038003400</td>\n",
              "      <td>Rosalyn Krol</td>\n",
              "      <td>0.15</td>\n",
              "      <td>17.0</td>\n",
              "      <td>6.0</td>\n",
              "      <td>324.0</td>\n",
              "      <td>Aluminium</td>\n",
              "      <td>3.18</td>\n",
              "      <td>11.94</td>\n",
              "      <td>Yes</td>\n",
              "      <td>Yes</td>\n",
              "      <td>Yes</td>\n",
              "      <td>Airways</td>\n",
              "      <td>No</td>\n",
              "      <td>Working Class</td>\n",
              "      <td>No</td>\n",
              "      <td>12/18/16</td>\n",
              "      <td>12/14/16</td>\n",
              "      <td>Aprilside, PA 52793</td>\n",
              "    </tr>\n",
              "    <tr>\n",
              "      <th>...</th>\n",
              "      <td>...</td>\n",
              "      <td>...</td>\n",
              "      <td>...</td>\n",
              "      <td>...</td>\n",
              "      <td>...</td>\n",
              "      <td>...</td>\n",
              "      <td>...</td>\n",
              "      <td>...</td>\n",
              "      <td>...</td>\n",
              "      <td>...</td>\n",
              "      <td>...</td>\n",
              "      <td>...</td>\n",
              "      <td>...</td>\n",
              "      <td>...</td>\n",
              "      <td>...</td>\n",
              "      <td>...</td>\n",
              "      <td>...</td>\n",
              "      <td>...</td>\n",
              "      <td>...</td>\n",
              "    </tr>\n",
              "    <tr>\n",
              "      <th>6495</th>\n",
              "      <td>fffe3800370037003300</td>\n",
              "      <td>Jeffrey Freudenthal</td>\n",
              "      <td>0.37</td>\n",
              "      <td>37.0</td>\n",
              "      <td>10.0</td>\n",
              "      <td>16551.0</td>\n",
              "      <td>Brass</td>\n",
              "      <td>28.28</td>\n",
              "      <td>38.46</td>\n",
              "      <td>Yes</td>\n",
              "      <td>Yes</td>\n",
              "      <td>No</td>\n",
              "      <td>Airways</td>\n",
              "      <td>No</td>\n",
              "      <td>Wealthy</td>\n",
              "      <td>Yes</td>\n",
              "      <td>03/28/18</td>\n",
              "      <td>03/25/18</td>\n",
              "      <td>New Robert, VT 85335</td>\n",
              "    </tr>\n",
              "    <tr>\n",
              "      <th>6496</th>\n",
              "      <td>fffe310036003400</td>\n",
              "      <td>Larry Edwards</td>\n",
              "      <td>0.67</td>\n",
              "      <td>15.0</td>\n",
              "      <td>NaN</td>\n",
              "      <td>18981.0</td>\n",
              "      <td>NaN</td>\n",
              "      <td>67.18</td>\n",
              "      <td>27.72</td>\n",
              "      <td>No</td>\n",
              "      <td>No</td>\n",
              "      <td>No</td>\n",
              "      <td>Roadways</td>\n",
              "      <td>No</td>\n",
              "      <td>Working Class</td>\n",
              "      <td>No</td>\n",
              "      <td>08/29/15</td>\n",
              "      <td>08/27/15</td>\n",
              "      <td>New Joshua, VA 35766</td>\n",
              "    </tr>\n",
              "    <tr>\n",
              "      <th>6497</th>\n",
              "      <td>fffe3600300031003300</td>\n",
              "      <td>Denise Worth</td>\n",
              "      <td>0.68</td>\n",
              "      <td>19.0</td>\n",
              "      <td>8.0</td>\n",
              "      <td>587.0</td>\n",
              "      <td>Clay</td>\n",
              "      <td>6.92</td>\n",
              "      <td>10.38</td>\n",
              "      <td>Yes</td>\n",
              "      <td>No</td>\n",
              "      <td>No</td>\n",
              "      <td>NaN</td>\n",
              "      <td>Yes</td>\n",
              "      <td>Wealthy</td>\n",
              "      <td>No</td>\n",
              "      <td>04/10/19</td>\n",
              "      <td>04/09/19</td>\n",
              "      <td>Lake Kelly, MA 80823</td>\n",
              "    </tr>\n",
              "    <tr>\n",
              "      <th>6498</th>\n",
              "      <td>fffe3600350035003900</td>\n",
              "      <td>Daniel Drew</td>\n",
              "      <td>0.02</td>\n",
              "      <td>33.0</td>\n",
              "      <td>9.0</td>\n",
              "      <td>1269377.0</td>\n",
              "      <td>Stone</td>\n",
              "      <td>2929.13</td>\n",
              "      <td>69.76</td>\n",
              "      <td>No</td>\n",
              "      <td>Yes</td>\n",
              "      <td>No</td>\n",
              "      <td>Roadways</td>\n",
              "      <td>No</td>\n",
              "      <td>Working Class</td>\n",
              "      <td>Yes</td>\n",
              "      <td>03/10/19</td>\n",
              "      <td>03/12/19</td>\n",
              "      <td>Hintonberg, UT 35006</td>\n",
              "    </tr>\n",
              "    <tr>\n",
              "      <th>6499</th>\n",
              "      <td>fffe3700310031003600</td>\n",
              "      <td>Vernon Carroll</td>\n",
              "      <td>0.18</td>\n",
              "      <td>30.0</td>\n",
              "      <td>13.0</td>\n",
              "      <td>34729.0</td>\n",
              "      <td>Brass</td>\n",
              "      <td>46.63</td>\n",
              "      <td>78.25</td>\n",
              "      <td>No</td>\n",
              "      <td>Yes</td>\n",
              "      <td>No</td>\n",
              "      <td>Airways</td>\n",
              "      <td>No</td>\n",
              "      <td>Working Class</td>\n",
              "      <td>No</td>\n",
              "      <td>12/03/16</td>\n",
              "      <td>12/05/16</td>\n",
              "      <td>New Christopher, AK 87406</td>\n",
              "    </tr>\n",
              "  </tbody>\n",
              "</table>\n",
              "<p>6500 rows × 19 columns</p>\n",
              "</div>"
            ],
            "text/plain": [
              "               Customer Id  ...          Customer Location\n",
              "0     fffe3900350033003300  ...     New Michelle, OH 50777\n",
              "1     fffe3800330031003900  ...  New Michaelport, WY 12072\n",
              "2     fffe3600370035003100  ...      Bowmanshire, WA 19241\n",
              "3         fffe350031003300  ...       East Robyn, KY 86375\n",
              "4     fffe3900320038003400  ...        Aprilside, PA 52793\n",
              "...                    ...  ...                        ...\n",
              "6495  fffe3800370037003300  ...       New Robert, VT 85335\n",
              "6496      fffe310036003400  ...       New Joshua, VA 35766\n",
              "6497  fffe3600300031003300  ...       Lake Kelly, MA 80823\n",
              "6498  fffe3600350035003900  ...       Hintonberg, UT 35006\n",
              "6499  fffe3700310031003600  ...  New Christopher, AK 87406\n",
              "\n",
              "[6500 rows x 19 columns]"
            ]
          },
          "metadata": {
            "tags": []
          },
          "execution_count": 34
        }
      ]
    },
    {
      "cell_type": "code",
      "metadata": {
        "id": "00tI2vHnG-ZJ"
      },
      "source": [
        "train_X = train_X.drop(['Customer Id', 'Artist Name', 'Scheduled Date', 'Delivery Date', 'Customer Location', 'Transport'], axis = 1)\r\n",
        "test_X = test.drop(['Customer Id', 'Artist Name', 'Scheduled Date', 'Delivery Date', 'Customer Location', 'Transport'], axis = 1)"
      ],
      "execution_count": null,
      "outputs": []
    },
    {
      "cell_type": "code",
      "metadata": {
        "id": "YI1QuorIkQNS"
      },
      "source": [
        "#1. Function to replace NAN values with mode value\r\n",
        "def impute_nan_most_frequent_category(DataFrame,ColName):\r\n",
        "    # .mode()[0] - gives first category name\r\n",
        "     most_frequent_category=DataFrame[ColName].mode()[0]\r\n",
        "    \r\n",
        "    # replace nan values with most occured category\r\n",
        "     DataFrame[ColName + \"_Imputed\"] = DataFrame[ColName]\r\n",
        "     DataFrame[ColName + \"_Imputed\"].fillna(most_frequent_category,inplace=True)\r\n",
        "#2. Call function to impute most occured category\r\n",
        "for Columns in ['Material', 'Remote Location']:\r\n",
        "    impute_nan_most_frequent_category(train_X,Columns)\r\n",
        "    impute_nan_most_frequent_category(test_X,Columns)\r\n",
        "    \r\n",
        "# Display imputed result\r\n",
        "train_X[['Material','Material_Imputed','Remote Location','Remote Location_Imputed']].head(10)\r\n",
        "#3. Drop actual columns\r\n",
        "train_X = train_X.drop(['Material', 'Remote Location'], axis = 1)\r\n",
        "test_X = test_X.drop(['Material', 'Remote Location'], axis = 1)"
      ],
      "execution_count": null,
      "outputs": []
    },
    {
      "cell_type": "code",
      "metadata": {
        "colab": {
          "base_uri": "https://localhost:8080/",
          "height": 418
        },
        "id": "P7bYXikUG8DM",
        "outputId": "dd2cc6e5-7b03-4749-c865-1b75589fa530"
      },
      "source": [
        "train_X"
      ],
      "execution_count": null,
      "outputs": [
        {
          "output_type": "execute_result",
          "data": {
            "text/html": [
              "<div>\n",
              "<style scoped>\n",
              "    .dataframe tbody tr th:only-of-type {\n",
              "        vertical-align: middle;\n",
              "    }\n",
              "\n",
              "    .dataframe tbody tr th {\n",
              "        vertical-align: top;\n",
              "    }\n",
              "\n",
              "    .dataframe thead th {\n",
              "        text-align: right;\n",
              "    }\n",
              "</style>\n",
              "<table border=\"1\" class=\"dataframe\">\n",
              "  <thead>\n",
              "    <tr style=\"text-align: right;\">\n",
              "      <th></th>\n",
              "      <th>Artist Reputation</th>\n",
              "      <th>Height</th>\n",
              "      <th>Width</th>\n",
              "      <th>Weight</th>\n",
              "      <th>Price Of Sculpture</th>\n",
              "      <th>Base Shipping Price</th>\n",
              "      <th>International</th>\n",
              "      <th>Express Shipment</th>\n",
              "      <th>Installation Included</th>\n",
              "      <th>Fragile</th>\n",
              "      <th>Customer Information</th>\n",
              "      <th>Material_Imputed</th>\n",
              "      <th>Remote Location_Imputed</th>\n",
              "    </tr>\n",
              "  </thead>\n",
              "  <tbody>\n",
              "    <tr>\n",
              "      <th>0</th>\n",
              "      <td>0.26</td>\n",
              "      <td>17.0</td>\n",
              "      <td>6.0</td>\n",
              "      <td>4128.0</td>\n",
              "      <td>13.91</td>\n",
              "      <td>16.27</td>\n",
              "      <td>Yes</td>\n",
              "      <td>Yes</td>\n",
              "      <td>No</td>\n",
              "      <td>No</td>\n",
              "      <td>Working Class</td>\n",
              "      <td>Brass</td>\n",
              "      <td>No</td>\n",
              "    </tr>\n",
              "    <tr>\n",
              "      <th>1</th>\n",
              "      <td>0.28</td>\n",
              "      <td>3.0</td>\n",
              "      <td>3.0</td>\n",
              "      <td>61.0</td>\n",
              "      <td>6.83</td>\n",
              "      <td>15.00</td>\n",
              "      <td>No</td>\n",
              "      <td>No</td>\n",
              "      <td>No</td>\n",
              "      <td>No</td>\n",
              "      <td>Working Class</td>\n",
              "      <td>Brass</td>\n",
              "      <td>No</td>\n",
              "    </tr>\n",
              "    <tr>\n",
              "      <th>2</th>\n",
              "      <td>0.07</td>\n",
              "      <td>8.0</td>\n",
              "      <td>5.0</td>\n",
              "      <td>237.0</td>\n",
              "      <td>4.96</td>\n",
              "      <td>21.18</td>\n",
              "      <td>No</td>\n",
              "      <td>No</td>\n",
              "      <td>No</td>\n",
              "      <td>Yes</td>\n",
              "      <td>Working Class</td>\n",
              "      <td>Clay</td>\n",
              "      <td>Yes</td>\n",
              "    </tr>\n",
              "    <tr>\n",
              "      <th>3</th>\n",
              "      <td>0.12</td>\n",
              "      <td>9.0</td>\n",
              "      <td>NaN</td>\n",
              "      <td>NaN</td>\n",
              "      <td>5.81</td>\n",
              "      <td>16.31</td>\n",
              "      <td>No</td>\n",
              "      <td>No</td>\n",
              "      <td>No</td>\n",
              "      <td>No</td>\n",
              "      <td>Wealthy</td>\n",
              "      <td>Aluminium</td>\n",
              "      <td>Yes</td>\n",
              "    </tr>\n",
              "    <tr>\n",
              "      <th>4</th>\n",
              "      <td>0.15</td>\n",
              "      <td>17.0</td>\n",
              "      <td>6.0</td>\n",
              "      <td>324.0</td>\n",
              "      <td>3.18</td>\n",
              "      <td>11.94</td>\n",
              "      <td>Yes</td>\n",
              "      <td>Yes</td>\n",
              "      <td>Yes</td>\n",
              "      <td>No</td>\n",
              "      <td>Working Class</td>\n",
              "      <td>Aluminium</td>\n",
              "      <td>No</td>\n",
              "    </tr>\n",
              "    <tr>\n",
              "      <th>...</th>\n",
              "      <td>...</td>\n",
              "      <td>...</td>\n",
              "      <td>...</td>\n",
              "      <td>...</td>\n",
              "      <td>...</td>\n",
              "      <td>...</td>\n",
              "      <td>...</td>\n",
              "      <td>...</td>\n",
              "      <td>...</td>\n",
              "      <td>...</td>\n",
              "      <td>...</td>\n",
              "      <td>...</td>\n",
              "      <td>...</td>\n",
              "    </tr>\n",
              "    <tr>\n",
              "      <th>6495</th>\n",
              "      <td>0.37</td>\n",
              "      <td>37.0</td>\n",
              "      <td>10.0</td>\n",
              "      <td>16551.0</td>\n",
              "      <td>28.28</td>\n",
              "      <td>38.46</td>\n",
              "      <td>Yes</td>\n",
              "      <td>Yes</td>\n",
              "      <td>No</td>\n",
              "      <td>No</td>\n",
              "      <td>Wealthy</td>\n",
              "      <td>Brass</td>\n",
              "      <td>Yes</td>\n",
              "    </tr>\n",
              "    <tr>\n",
              "      <th>6496</th>\n",
              "      <td>0.67</td>\n",
              "      <td>15.0</td>\n",
              "      <td>NaN</td>\n",
              "      <td>18981.0</td>\n",
              "      <td>67.18</td>\n",
              "      <td>27.72</td>\n",
              "      <td>No</td>\n",
              "      <td>No</td>\n",
              "      <td>No</td>\n",
              "      <td>No</td>\n",
              "      <td>Working Class</td>\n",
              "      <td>Brass</td>\n",
              "      <td>No</td>\n",
              "    </tr>\n",
              "    <tr>\n",
              "      <th>6497</th>\n",
              "      <td>0.68</td>\n",
              "      <td>19.0</td>\n",
              "      <td>8.0</td>\n",
              "      <td>587.0</td>\n",
              "      <td>6.92</td>\n",
              "      <td>10.38</td>\n",
              "      <td>Yes</td>\n",
              "      <td>No</td>\n",
              "      <td>No</td>\n",
              "      <td>Yes</td>\n",
              "      <td>Wealthy</td>\n",
              "      <td>Clay</td>\n",
              "      <td>No</td>\n",
              "    </tr>\n",
              "    <tr>\n",
              "      <th>6498</th>\n",
              "      <td>0.02</td>\n",
              "      <td>33.0</td>\n",
              "      <td>9.0</td>\n",
              "      <td>1269377.0</td>\n",
              "      <td>2929.13</td>\n",
              "      <td>69.76</td>\n",
              "      <td>No</td>\n",
              "      <td>Yes</td>\n",
              "      <td>No</td>\n",
              "      <td>No</td>\n",
              "      <td>Working Class</td>\n",
              "      <td>Stone</td>\n",
              "      <td>Yes</td>\n",
              "    </tr>\n",
              "    <tr>\n",
              "      <th>6499</th>\n",
              "      <td>0.18</td>\n",
              "      <td>30.0</td>\n",
              "      <td>13.0</td>\n",
              "      <td>34729.0</td>\n",
              "      <td>46.63</td>\n",
              "      <td>78.25</td>\n",
              "      <td>No</td>\n",
              "      <td>Yes</td>\n",
              "      <td>No</td>\n",
              "      <td>No</td>\n",
              "      <td>Working Class</td>\n",
              "      <td>Brass</td>\n",
              "      <td>No</td>\n",
              "    </tr>\n",
              "  </tbody>\n",
              "</table>\n",
              "<p>6500 rows × 13 columns</p>\n",
              "</div>"
            ],
            "text/plain": [
              "      Artist Reputation  Height  ...  Material_Imputed  Remote Location_Imputed\n",
              "0                  0.26    17.0  ...             Brass                       No\n",
              "1                  0.28     3.0  ...             Brass                       No\n",
              "2                  0.07     8.0  ...              Clay                      Yes\n",
              "3                  0.12     9.0  ...         Aluminium                      Yes\n",
              "4                  0.15    17.0  ...         Aluminium                       No\n",
              "...                 ...     ...  ...               ...                      ...\n",
              "6495               0.37    37.0  ...             Brass                      Yes\n",
              "6496               0.67    15.0  ...             Brass                       No\n",
              "6497               0.68    19.0  ...              Clay                       No\n",
              "6498               0.02    33.0  ...             Stone                      Yes\n",
              "6499               0.18    30.0  ...             Brass                       No\n",
              "\n",
              "[6500 rows x 13 columns]"
            ]
          },
          "metadata": {
            "tags": []
          },
          "execution_count": 44
        }
      ]
    },
    {
      "cell_type": "code",
      "metadata": {
        "id": "9qNXwuQ1HxA7",
        "colab": {
          "base_uri": "https://localhost:8080/"
        },
        "outputId": "6c81a79a-e4e0-4b47-b24e-e0a05a046fd7"
      },
      "source": [
        "# Get list of categorical variables\r\n",
        "s = (train_X.dtypes == 'object')\r\n",
        "object_cols = list(s[s].index)\r\n",
        "\r\n",
        "print(\"Categorical variables:\")\r\n",
        "print(object_cols)"
      ],
      "execution_count": null,
      "outputs": [
        {
          "output_type": "stream",
          "text": [
            "Categorical variables:\n",
            "['International', 'Express Shipment', 'Installation Included', 'Fragile', 'Customer Information', 'Material_Imputed', 'Remote Location_Imputed']\n"
          ],
          "name": "stdout"
        }
      ]
    },
    {
      "cell_type": "code",
      "metadata": {
        "id": "I4peJtyJIhcT"
      },
      "source": [
        "from sklearn.preprocessing import LabelEncoder\r\n",
        "\r\n",
        "# Make copy to avoid changing original data \r\n",
        "label_X_train = train_X.copy()\r\n",
        "label_X_test = test_X.copy()\r\n",
        "\r\n",
        "# Apply label encoder to each column with categorical data\r\n",
        "label_encoder = LabelEncoder()\r\n",
        "for col in object_cols:\r\n",
        "    label_X_train[col] = label_encoder.fit_transform(train_X[col])\r\n",
        "    label_X_test[col] = label_encoder.transform(test_X[col])"
      ],
      "execution_count": null,
      "outputs": []
    },
    {
      "cell_type": "code",
      "metadata": {
        "id": "t9AEAs_pJqqL"
      },
      "source": [
        "from sklearn.impute import SimpleImputer\r\n",
        "\r\n",
        "# Imputation\r\n",
        "my_imputer = SimpleImputer()\r\n",
        "imputed_X_train = pd.DataFrame(my_imputer.fit_transform(label_X_train))\r\n",
        "imputed_X_test = pd.DataFrame(my_imputer.transform(label_X_test))\r\n",
        "\r\n",
        "# Imputation removed column names; put them back\r\n",
        "imputed_X_train.columns = train_X.columns\r\n",
        "imputed_X_test.columns = test_X.columns"
      ],
      "execution_count": null,
      "outputs": []
    },
    {
      "cell_type": "code",
      "metadata": {
        "id": "7j3-2VXcKW7S",
        "colab": {
          "base_uri": "https://localhost:8080/",
          "height": 435
        },
        "outputId": "6e89ce1b-66b2-46d5-912a-aa56773000f1"
      },
      "source": [
        "imputed_X_train"
      ],
      "execution_count": null,
      "outputs": [
        {
          "output_type": "execute_result",
          "data": {
            "text/html": [
              "<div>\n",
              "<style scoped>\n",
              "    .dataframe tbody tr th:only-of-type {\n",
              "        vertical-align: middle;\n",
              "    }\n",
              "\n",
              "    .dataframe tbody tr th {\n",
              "        vertical-align: top;\n",
              "    }\n",
              "\n",
              "    .dataframe thead th {\n",
              "        text-align: right;\n",
              "    }\n",
              "</style>\n",
              "<table border=\"1\" class=\"dataframe\">\n",
              "  <thead>\n",
              "    <tr style=\"text-align: right;\">\n",
              "      <th></th>\n",
              "      <th>Artist Reputation</th>\n",
              "      <th>Height</th>\n",
              "      <th>Width</th>\n",
              "      <th>Weight</th>\n",
              "      <th>Price Of Sculpture</th>\n",
              "      <th>Base Shipping Price</th>\n",
              "      <th>International</th>\n",
              "      <th>Express Shipment</th>\n",
              "      <th>Installation Included</th>\n",
              "      <th>Fragile</th>\n",
              "      <th>Customer Information</th>\n",
              "      <th>Material_Imputed</th>\n",
              "      <th>Remote Location_Imputed</th>\n",
              "    </tr>\n",
              "  </thead>\n",
              "  <tbody>\n",
              "    <tr>\n",
              "      <th>0</th>\n",
              "      <td>0.26</td>\n",
              "      <td>17.0</td>\n",
              "      <td>6.000000</td>\n",
              "      <td>4.128000e+03</td>\n",
              "      <td>13.91</td>\n",
              "      <td>16.27</td>\n",
              "      <td>1.0</td>\n",
              "      <td>1.0</td>\n",
              "      <td>0.0</td>\n",
              "      <td>0.0</td>\n",
              "      <td>1.0</td>\n",
              "      <td>1.0</td>\n",
              "      <td>0.0</td>\n",
              "    </tr>\n",
              "    <tr>\n",
              "      <th>1</th>\n",
              "      <td>0.28</td>\n",
              "      <td>3.0</td>\n",
              "      <td>3.000000</td>\n",
              "      <td>6.100000e+01</td>\n",
              "      <td>6.83</td>\n",
              "      <td>15.00</td>\n",
              "      <td>0.0</td>\n",
              "      <td>0.0</td>\n",
              "      <td>0.0</td>\n",
              "      <td>0.0</td>\n",
              "      <td>1.0</td>\n",
              "      <td>1.0</td>\n",
              "      <td>0.0</td>\n",
              "    </tr>\n",
              "    <tr>\n",
              "      <th>2</th>\n",
              "      <td>0.07</td>\n",
              "      <td>8.0</td>\n",
              "      <td>5.000000</td>\n",
              "      <td>2.370000e+02</td>\n",
              "      <td>4.96</td>\n",
              "      <td>21.18</td>\n",
              "      <td>0.0</td>\n",
              "      <td>0.0</td>\n",
              "      <td>0.0</td>\n",
              "      <td>1.0</td>\n",
              "      <td>1.0</td>\n",
              "      <td>3.0</td>\n",
              "      <td>1.0</td>\n",
              "    </tr>\n",
              "    <tr>\n",
              "      <th>3</th>\n",
              "      <td>0.12</td>\n",
              "      <td>9.0</td>\n",
              "      <td>9.617647</td>\n",
              "      <td>4.006948e+05</td>\n",
              "      <td>5.81</td>\n",
              "      <td>16.31</td>\n",
              "      <td>0.0</td>\n",
              "      <td>0.0</td>\n",
              "      <td>0.0</td>\n",
              "      <td>0.0</td>\n",
              "      <td>0.0</td>\n",
              "      <td>0.0</td>\n",
              "      <td>1.0</td>\n",
              "    </tr>\n",
              "    <tr>\n",
              "      <th>4</th>\n",
              "      <td>0.15</td>\n",
              "      <td>17.0</td>\n",
              "      <td>6.000000</td>\n",
              "      <td>3.240000e+02</td>\n",
              "      <td>3.18</td>\n",
              "      <td>11.94</td>\n",
              "      <td>1.0</td>\n",
              "      <td>1.0</td>\n",
              "      <td>1.0</td>\n",
              "      <td>0.0</td>\n",
              "      <td>1.0</td>\n",
              "      <td>0.0</td>\n",
              "      <td>0.0</td>\n",
              "    </tr>\n",
              "    <tr>\n",
              "      <th>...</th>\n",
              "      <td>...</td>\n",
              "      <td>...</td>\n",
              "      <td>...</td>\n",
              "      <td>...</td>\n",
              "      <td>...</td>\n",
              "      <td>...</td>\n",
              "      <td>...</td>\n",
              "      <td>...</td>\n",
              "      <td>...</td>\n",
              "      <td>...</td>\n",
              "      <td>...</td>\n",
              "      <td>...</td>\n",
              "      <td>...</td>\n",
              "    </tr>\n",
              "    <tr>\n",
              "      <th>6495</th>\n",
              "      <td>0.37</td>\n",
              "      <td>37.0</td>\n",
              "      <td>10.000000</td>\n",
              "      <td>1.655100e+04</td>\n",
              "      <td>28.28</td>\n",
              "      <td>38.46</td>\n",
              "      <td>1.0</td>\n",
              "      <td>1.0</td>\n",
              "      <td>0.0</td>\n",
              "      <td>0.0</td>\n",
              "      <td>0.0</td>\n",
              "      <td>1.0</td>\n",
              "      <td>1.0</td>\n",
              "    </tr>\n",
              "    <tr>\n",
              "      <th>6496</th>\n",
              "      <td>0.67</td>\n",
              "      <td>15.0</td>\n",
              "      <td>9.617647</td>\n",
              "      <td>1.898100e+04</td>\n",
              "      <td>67.18</td>\n",
              "      <td>27.72</td>\n",
              "      <td>0.0</td>\n",
              "      <td>0.0</td>\n",
              "      <td>0.0</td>\n",
              "      <td>0.0</td>\n",
              "      <td>1.0</td>\n",
              "      <td>1.0</td>\n",
              "      <td>0.0</td>\n",
              "    </tr>\n",
              "    <tr>\n",
              "      <th>6497</th>\n",
              "      <td>0.68</td>\n",
              "      <td>19.0</td>\n",
              "      <td>8.000000</td>\n",
              "      <td>5.870000e+02</td>\n",
              "      <td>6.92</td>\n",
              "      <td>10.38</td>\n",
              "      <td>1.0</td>\n",
              "      <td>0.0</td>\n",
              "      <td>0.0</td>\n",
              "      <td>1.0</td>\n",
              "      <td>0.0</td>\n",
              "      <td>3.0</td>\n",
              "      <td>0.0</td>\n",
              "    </tr>\n",
              "    <tr>\n",
              "      <th>6498</th>\n",
              "      <td>0.02</td>\n",
              "      <td>33.0</td>\n",
              "      <td>9.000000</td>\n",
              "      <td>1.269377e+06</td>\n",
              "      <td>2929.13</td>\n",
              "      <td>69.76</td>\n",
              "      <td>0.0</td>\n",
              "      <td>1.0</td>\n",
              "      <td>0.0</td>\n",
              "      <td>0.0</td>\n",
              "      <td>1.0</td>\n",
              "      <td>5.0</td>\n",
              "      <td>1.0</td>\n",
              "    </tr>\n",
              "    <tr>\n",
              "      <th>6499</th>\n",
              "      <td>0.18</td>\n",
              "      <td>30.0</td>\n",
              "      <td>13.000000</td>\n",
              "      <td>3.472900e+04</td>\n",
              "      <td>46.63</td>\n",
              "      <td>78.25</td>\n",
              "      <td>0.0</td>\n",
              "      <td>1.0</td>\n",
              "      <td>0.0</td>\n",
              "      <td>0.0</td>\n",
              "      <td>1.0</td>\n",
              "      <td>1.0</td>\n",
              "      <td>0.0</td>\n",
              "    </tr>\n",
              "  </tbody>\n",
              "</table>\n",
              "<p>6500 rows × 13 columns</p>\n",
              "</div>"
            ],
            "text/plain": [
              "      Artist Reputation  Height  ...  Material_Imputed  Remote Location_Imputed\n",
              "0                  0.26    17.0  ...               1.0                      0.0\n",
              "1                  0.28     3.0  ...               1.0                      0.0\n",
              "2                  0.07     8.0  ...               3.0                      1.0\n",
              "3                  0.12     9.0  ...               0.0                      1.0\n",
              "4                  0.15    17.0  ...               0.0                      0.0\n",
              "...                 ...     ...  ...               ...                      ...\n",
              "6495               0.37    37.0  ...               1.0                      1.0\n",
              "6496               0.67    15.0  ...               1.0                      0.0\n",
              "6497               0.68    19.0  ...               3.0                      0.0\n",
              "6498               0.02    33.0  ...               5.0                      1.0\n",
              "6499               0.18    30.0  ...               1.0                      0.0\n",
              "\n",
              "[6500 rows x 13 columns]"
            ]
          },
          "metadata": {
            "tags": []
          },
          "execution_count": 48
        }
      ]
    },
    {
      "cell_type": "code",
      "metadata": {
        "id": "CUrXwBJzKq48"
      },
      "source": [
        "import sklearn\r\n",
        "scaler = sklearn.preprocessing.StandardScaler()\r\n",
        "\r\n",
        "X_train = pd.DataFrame(scaler.fit_transform(imputed_X_train), columns=imputed_X_train.columns)\r\n",
        "X_test = pd.DataFrame(scaler.transform(imputed_X_test), columns=imputed_X_test.columns)"
      ],
      "execution_count": null,
      "outputs": []
    },
    {
      "cell_type": "code",
      "metadata": {
        "id": "QRE3QtwGK04I"
      },
      "source": [
        "y_prediction_rf = rf.predict(X_test)"
      ],
      "execution_count": null,
      "outputs": []
    },
    {
      "cell_type": "code",
      "metadata": {
        "id": "fu_yfAY7O6wI",
        "colab": {
          "base_uri": "https://localhost:8080/"
        },
        "outputId": "0efe7805-404e-4a14-8b1b-d5b3b7194614"
      },
      "source": [
        "y_prediction_rf"
      ],
      "execution_count": null,
      "outputs": [
        {
          "output_type": "execute_result",
          "data": {
            "text/plain": [
              "array([   268.3527,    296.8799,    214.3183, ...,   1078.8713,\n",
              "          290.9305, 150666.6508])"
            ]
          },
          "metadata": {
            "tags": []
          },
          "execution_count": 52
        }
      ]
    },
    {
      "cell_type": "code",
      "metadata": {
        "id": "taMWgagIlHnL"
      },
      "source": [
        "#from sklearn.model_selection import GridSearchCV\r\n",
        "from sklearn.model_selection import RandomizedSearchCV"
      ],
      "execution_count": null,
      "outputs": []
    },
    {
      "cell_type": "code",
      "metadata": {
        "id": "cjSGB6gklZlY"
      },
      "source": [
        "param_grid = [\r\n",
        "{'n_estimators': [50,100,250,500], \r\n",
        " 'max_depth': [10, 50, 100], 'bootstrap': [True, False]}\r\n",
        "]"
      ],
      "execution_count": null,
      "outputs": []
    },
    {
      "cell_type": "code",
      "metadata": {
        "colab": {
          "base_uri": "https://localhost:8080/"
        },
        "id": "U7IRO9vBNKBv",
        "outputId": "2a03a7f7-b02f-4600-ab79-da2d64c88ac1"
      },
      "source": [
        "random_search_forest = RandomizedSearchCV(rf, param_grid, cv=3)\r\n",
        "random_search_forest.fit(X_train, train_Y)"
      ],
      "execution_count": null,
      "outputs": [
        {
          "output_type": "execute_result",
          "data": {
            "text/plain": [
              "RandomizedSearchCV(cv=3, error_score=nan,\n",
              "                   estimator=RandomForestRegressor(bootstrap=True,\n",
              "                                                   ccp_alpha=0.0,\n",
              "                                                   criterion='mse',\n",
              "                                                   max_depth=None,\n",
              "                                                   max_features='auto',\n",
              "                                                   max_leaf_nodes=None,\n",
              "                                                   max_samples=None,\n",
              "                                                   min_impurity_decrease=0.0,\n",
              "                                                   min_impurity_split=None,\n",
              "                                                   min_samples_leaf=1,\n",
              "                                                   min_samples_split=2,\n",
              "                                                   min_weight_fraction_leaf=0.0,\n",
              "                                                   n_estimators=100,\n",
              "                                                   n_jobs=None, oob_score=False,\n",
              "                                                   random_state=42, verbose=0,\n",
              "                                                   warm_start=False),\n",
              "                   iid='deprecated', n_iter=10, n_jobs=None,\n",
              "                   param_distributions=[{'bootstrap': [True, False],\n",
              "                                         'max_depth': [10, 50, 100],\n",
              "                                         'n_estimators': [50, 100, 250, 500]}],\n",
              "                   pre_dispatch='2*n_jobs', random_state=None, refit=True,\n",
              "                   return_train_score=False, scoring=None, verbose=0)"
            ]
          },
          "metadata": {
            "tags": []
          },
          "execution_count": 56
        }
      ]
    },
    {
      "cell_type": "code",
      "metadata": {
        "id": "h1eIVtgtAJ98"
      },
      "source": [
        "tuned_rf_best_random = random_search_forest.best_estimator_"
      ],
      "execution_count": null,
      "outputs": []
    },
    {
      "cell_type": "code",
      "metadata": {
        "id": "ly_oU30uA3qL",
        "colab": {
          "base_uri": "https://localhost:8080/"
        },
        "outputId": "07429bf4-17e9-4944-ef70-310d053031c9"
      },
      "source": [
        "tuned_rf_best_random"
      ],
      "execution_count": null,
      "outputs": [
        {
          "output_type": "execute_result",
          "data": {
            "text/plain": [
              "RandomForestRegressor(bootstrap=True, ccp_alpha=0.0, criterion='mse',\n",
              "                      max_depth=50, max_features='auto', max_leaf_nodes=None,\n",
              "                      max_samples=None, min_impurity_decrease=0.0,\n",
              "                      min_impurity_split=None, min_samples_leaf=1,\n",
              "                      min_samples_split=2, min_weight_fraction_leaf=0.0,\n",
              "                      n_estimators=500, n_jobs=None, oob_score=False,\n",
              "                      random_state=42, verbose=0, warm_start=False)"
            ]
          },
          "metadata": {
            "tags": []
          },
          "execution_count": 58
        }
      ]
    },
    {
      "cell_type": "code",
      "metadata": {
        "id": "tMTa8D1QnC5M",
        "colab": {
          "base_uri": "https://localhost:8080/"
        },
        "outputId": "9351f2dc-0bc3-4d5a-9448-9ef6831fa5aa"
      },
      "source": [
        "tuned_rf_best_random.fit(X_train, train_Y)"
      ],
      "execution_count": null,
      "outputs": [
        {
          "output_type": "execute_result",
          "data": {
            "text/plain": [
              "RandomForestRegressor(bootstrap=True, ccp_alpha=0.0, criterion='mse',\n",
              "                      max_depth=50, max_features='auto', max_leaf_nodes=None,\n",
              "                      max_samples=None, min_impurity_decrease=0.0,\n",
              "                      min_impurity_split=None, min_samples_leaf=1,\n",
              "                      min_samples_split=2, min_weight_fraction_leaf=0.0,\n",
              "                      n_estimators=500, n_jobs=None, oob_score=False,\n",
              "                      random_state=42, verbose=0, warm_start=False)"
            ]
          },
          "metadata": {
            "tags": []
          },
          "execution_count": 59
        }
      ]
    },
    {
      "cell_type": "code",
      "metadata": {
        "id": "84x_80vhnUzz"
      },
      "source": [
        "tuned_rf_random_pred = tuned_rf_best_random.predict(X_test)"
      ],
      "execution_count": null,
      "outputs": []
    },
    {
      "cell_type": "code",
      "metadata": {
        "id": "RLjb6JbfpQX2",
        "colab": {
          "base_uri": "https://localhost:8080/"
        },
        "outputId": "e983df2e-f645-4cb9-a4e8-19cabe39e03c"
      },
      "source": [
        "tuned_rf_random_pred"
      ],
      "execution_count": null,
      "outputs": [
        {
          "output_type": "execute_result",
          "data": {
            "text/plain": [
              "array([   263.69266,    290.14112,    210.61648, ...,   1086.4508 ,\n",
              "          278.6862 , 142671.08942])"
            ]
          },
          "metadata": {
            "tags": []
          },
          "execution_count": 61
        }
      ]
    },
    {
      "cell_type": "code",
      "metadata": {
        "id": "30ZIW5osinop"
      },
      "source": [
        "df = pd.DataFrame()"
      ],
      "execution_count": null,
      "outputs": []
    },
    {
      "cell_type": "code",
      "metadata": {
        "id": "Zuakf_ZVNss4"
      },
      "source": [
        "df['Customer Id'] = test['Customer Id']\r\n",
        "df['Cost'] = y_prediction_rf\r\n",
        "df['Cost'] = df['Cost'].abs()"
      ],
      "execution_count": null,
      "outputs": []
    },
    {
      "cell_type": "code",
      "metadata": {
        "colab": {
          "base_uri": "https://localhost:8080/",
          "height": 402
        },
        "id": "acZZRJlUNs8g",
        "outputId": "11314e43-eb68-48c8-f99e-26b176e1477b"
      },
      "source": [
        "df"
      ],
      "execution_count": null,
      "outputs": [
        {
          "output_type": "execute_result",
          "data": {
            "text/html": [
              "<div>\n",
              "<style scoped>\n",
              "    .dataframe tbody tr th:only-of-type {\n",
              "        vertical-align: middle;\n",
              "    }\n",
              "\n",
              "    .dataframe tbody tr th {\n",
              "        vertical-align: top;\n",
              "    }\n",
              "\n",
              "    .dataframe thead th {\n",
              "        text-align: right;\n",
              "    }\n",
              "</style>\n",
              "<table border=\"1\" class=\"dataframe\">\n",
              "  <thead>\n",
              "    <tr style=\"text-align: right;\">\n",
              "      <th></th>\n",
              "      <th>Customer Id</th>\n",
              "      <th>Cost</th>\n",
              "    </tr>\n",
              "  </thead>\n",
              "  <tbody>\n",
              "    <tr>\n",
              "      <th>0</th>\n",
              "      <td>fffe3400310033003300</td>\n",
              "      <td>268.3527</td>\n",
              "    </tr>\n",
              "    <tr>\n",
              "      <th>1</th>\n",
              "      <td>fffe3600350035003400</td>\n",
              "      <td>296.8799</td>\n",
              "    </tr>\n",
              "    <tr>\n",
              "      <th>2</th>\n",
              "      <td>fffe3700360030003500</td>\n",
              "      <td>214.3183</td>\n",
              "    </tr>\n",
              "    <tr>\n",
              "      <th>3</th>\n",
              "      <td>fffe350038003600</td>\n",
              "      <td>222.4385</td>\n",
              "    </tr>\n",
              "    <tr>\n",
              "      <th>4</th>\n",
              "      <td>fffe3500390032003500</td>\n",
              "      <td>296.7572</td>\n",
              "    </tr>\n",
              "    <tr>\n",
              "      <th>...</th>\n",
              "      <td>...</td>\n",
              "      <td>...</td>\n",
              "    </tr>\n",
              "    <tr>\n",
              "      <th>3495</th>\n",
              "      <td>fffe3200300037003100</td>\n",
              "      <td>1153.7301</td>\n",
              "    </tr>\n",
              "    <tr>\n",
              "      <th>3496</th>\n",
              "      <td>fffe390031003100</td>\n",
              "      <td>2708.0676</td>\n",
              "    </tr>\n",
              "    <tr>\n",
              "      <th>3497</th>\n",
              "      <td>fffe3200350031003700</td>\n",
              "      <td>1078.8713</td>\n",
              "    </tr>\n",
              "    <tr>\n",
              "      <th>3498</th>\n",
              "      <td>fffe3100380031003000</td>\n",
              "      <td>290.9305</td>\n",
              "    </tr>\n",
              "    <tr>\n",
              "      <th>3499</th>\n",
              "      <td>fffe3200340037003300</td>\n",
              "      <td>150666.6508</td>\n",
              "    </tr>\n",
              "  </tbody>\n",
              "</table>\n",
              "<p>3500 rows × 2 columns</p>\n",
              "</div>"
            ],
            "text/plain": [
              "               Customer Id         Cost\n",
              "0     fffe3400310033003300     268.3527\n",
              "1     fffe3600350035003400     296.8799\n",
              "2     fffe3700360030003500     214.3183\n",
              "3         fffe350038003600     222.4385\n",
              "4     fffe3500390032003500     296.7572\n",
              "...                    ...          ...\n",
              "3495  fffe3200300037003100    1153.7301\n",
              "3496      fffe390031003100    2708.0676\n",
              "3497  fffe3200350031003700    1078.8713\n",
              "3498  fffe3100380031003000     290.9305\n",
              "3499  fffe3200340037003300  150666.6508\n",
              "\n",
              "[3500 rows x 2 columns]"
            ]
          },
          "metadata": {
            "tags": []
          },
          "execution_count": 64
        }
      ]
    },
    {
      "cell_type": "code",
      "metadata": {
        "id": "Oj-bsdzYNyOl"
      },
      "source": [
        "df.to_csv('prediction1.csv', index = False)"
      ],
      "execution_count": null,
      "outputs": []
    },
    {
      "cell_type": "code",
      "metadata": {
        "id": "x6ZsAq-HN2ye"
      },
      "source": [
        ""
      ],
      "execution_count": null,
      "outputs": []
    }
  ]
}